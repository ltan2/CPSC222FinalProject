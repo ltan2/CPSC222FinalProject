{
 "cells": [
  {
   "cell_type": "markdown",
   "metadata": {},
   "source": [
    "## INTRODUCTION  \n",
    "* Project Domain: Social media \n",
    "> Social media are interactive computer-mediated technologies that facilitate the creation or sharing of information, ideas,career interests, and other forms of expression via virtual communities and networks\n",
    " ~ *Wikipedia* \n",
    " \n",
    "* Dataset- Data obtained from Facebook and Instagram (Rough example- The real file is at fb.csv and insta.csv)\n",
    "    Time | Day | Date | Year\n",
    "    ------|-----|-----|-----\n",
    "    6:57pm|Tuesday|Januray 10|2020\n",
    "    11:40am|Saturday|March 13|2020\n",
    "<br>\n",
    "* Aim: To identfy patterns in the time and days I am online and to determine the time I will be online the next time I am.I would also like to identify what external factors that could impact my social media usage\n",
    "\n",
    "* Hypotheses: I am more active during the night than day and more active during the weekend. The next most possible time I will be online is on a weekend night time\n",
    "\n",
    "* Classification Used:  \n",
    "    * kNeighbors Classifier  \n",
    "    * Decision Tree classifier\n",
    "    \n",
    "\n",
    "\n",
    "* Findings:   \n",
    "    * I am more active during the day then night  \n",
    "    * I am equally active during the weekend and weekday, no actual significant difference\n",
    "    * News sentiment can affect my usage of social media\n",
    "    \n",
    "    \n",
    "* Stakeholders:  \n",
    "Social media companies particularly Facebook and Instagram, online buisnesses that leverage social media to sell their items, celebrities and political organizations"
   ]
  },
  {
   "cell_type": "markdown",
   "metadata": {},
   "source": [
    "## Data Analysis:\n",
    "\n",
    "1. Dataset collected from Instagram and Facebook (Total 2 datasets)  \n",
    "    * As shown above, each dataset contains time, day, date and year  "
   ]
  },
  {
   "cell_type": "markdown",
   "metadata": {},
   "source": [
    "### Reading in data"
   ]
  },
  {
   "cell_type": "code",
   "execution_count": 1,
   "metadata": {},
   "outputs": [],
   "source": [
    "import pandas as pd\n",
    "\n",
    "## read csv to dataframe\n",
    "fb_df = pd.read_csv(\"fb.csv\")\n",
    "insta_df = pd.read_csv(\"insta.csv\")\n"
   ]
  },
  {
   "cell_type": "markdown",
   "metadata": {},
   "source": [
    "## IDENTIFYING PATTERNS"
   ]
  },
  {
   "cell_type": "markdown",
   "metadata": {},
   "source": [
    "#### PART 1: INVESTIGATING SOCIAL MEDIA USAGE OF DIFFERENT DAYS OF THE WEEK"
   ]
  },
  {
   "cell_type": "markdown",
   "metadata": {},
   "source": [
    "#### Exploring frequency on times online on social media by days"
   ]
  },
  {
   "cell_type": "code",
   "execution_count": 2,
   "metadata": {},
   "outputs": [],
   "source": [
    "#1. Explore the frequency by days\n",
    "\n",
    "fb_days = fb_df.groupby(\"Day\")\n",
    "insta_days = insta_df.groupby(\"Day\")\n",
    "days = [\"Monday\",\"Tuesday\",\"Wednesday\",\"Thursday\",\"Friday\",\"Saturday\",\"Sunday\"]\n",
    "day_df1 = pd.DataFrame()\n",
    "day_df2 = pd.DataFrame()\n",
    "# calculate frequency of number of times online for fb data\n",
    "day_freq = []\n",
    "for day in days:\n",
    "    day_df1 = fb_days.get_group(day)[\"Day\"]\n",
    "    day_df2 = insta_days.get_group(day)[\"Day\"]\n",
    "    day_df1 = day_df1.append(day_df2,ignore_index=True)\n",
    "    day_freq.append(len(day_df1))\n",
    "    \n"
   ]
  },
  {
   "cell_type": "markdown",
   "metadata": {},
   "source": [
    "### Exploratory Data Analysis for weekends and weekdays"
   ]
  },
  {
   "cell_type": "code",
   "execution_count": 3,
   "metadata": {},
   "outputs": [
    {
     "data": {
      "image/png": "[encoded data removed]",
      "text/plain": [
       "<Figure size 432x288 with 1 Axes>"
      ]
     },
     "metadata": {
      "needs_background": "light"
     },
     "output_type": "display_data"
    }
   ],
   "source": [
    "import matplotlib.pyplot as plt\n",
    "\n",
    "plt.bar(days,day_freq)\n",
    "plt.title(\"Number of times on social media over 7 days a week\")\n",
    "plt.xticks(rotation=45)\n",
    "plt.savefig(\"dayfreq.png\")"
   ]
  },
  {
   "cell_type": "markdown",
   "metadata": {},
   "source": [
    "<details>\n",
    "    <summary><b>Click to read Findings</b></summary>\n",
    "  Based on the graph, we discover that:\n",
    "\n",
    "1. I am usually least active on social media during Wednesday.   \n",
    "2. I am usually active on Tuesdays compare to other days\n",
    "  \n",
    "</details>\n"
   ]
  },
  {
   "cell_type": "markdown",
   "metadata": {},
   "source": [
    "### Hypothesis question: Am I more often on social media during the weekend than weekday?\n",
    "\n",
    "Step 1:(Stating hypothesis)   \n",
    "$H_o : \\mu_{weekday} = \\mu_{weekend}$  \n",
    "$H_1 : \\mu_{weekend} > \\mu_{weekday}$  \n",
    "\n",
    "Step 2:(Level of Significance)  \n",
    "For testing purpose, I will just use a level of significance of 0.05\n",
    "\n",
    "Step 3:(Test determined)  \n",
    "This is a one tailed test two independent test  \n",
    "df =  5 + 2-2 = 5    \n",
    "t = $\\frac{x_1 + x_2}{\\sqrt{\\frac{1}{n_1} + \\frac{1}{n_2}}}$  \n",
    "t-value = 2.015  (If t computed is larger than 2.015, reject null hypothesis.Else do not.)"
   ]
  },
  {
   "cell_type": "code",
   "execution_count": 4,
   "metadata": {},
   "outputs": [
    {
     "name": "stdout",
     "output_type": "stream",
     "text": [
      "t-computed: -1.2815623994965906 p-value: 0.128103804904969\n",
      "Fail to reject H0, p-value: 0.128103804904969\n"
     ]
    }
   ],
   "source": [
    "##Step 4:\n",
    "\n",
    "import scipy.stats as stats\n",
    "import numpy as np\n",
    "import pandas as pd\n",
    "\n",
    "\n",
    "alpha = 0.05\n",
    "weekday_ser = pd.Series(day_freq[0:5])\n",
    "weekend_ser = pd.Series(day_freq[5:7])\n",
    "\n",
    "\n",
    "\n",
    "# ttest_ind performs a two-tailed test\n",
    "t_computed, p_value = stats.ttest_ind(weekday_ser,weekend_ser)\n",
    "print(\"t-computed:\", t_computed, \"p-value:\", p_value/2)\n",
    "if p_value/2 < alpha: \n",
    "    print(\"Reject H0, p-value:\", p_value/2)\n",
    "else:\n",
    "    print(\"Fail to reject H0, p-value:\", p_value/2)\n",
    "    "
   ]
  },
  {
   "cell_type": "markdown",
   "metadata": {},
   "source": [
    "Based on the results, I did not appear to be more active online during the weekday or weekends. t-computed is smaller than 2.105 and the p-value is larger than 0.05"
   ]
  },
  {
   "cell_type": "markdown",
   "metadata": {},
   "source": [
    "#### PART 2: INVESTIGATING TIME USAGE OF SOCIAL MEDIA"
   ]
  },
  {
   "cell_type": "markdown",
   "metadata": {},
   "source": [
    "For this section, data is loaded into a dataframe and cleaned  \n",
    "\n",
    "    * Time is converted to two groups: before 5 or after 5. Before 5pm will be considered as day and after 5pm will be considered as night  \n",
    "    * Outliers such as time between 1 am - 5am is deleted because it is hard to classify them as midnight or early morning. Time reflected when I was back home, so not accurate\n",
    "    "
   ]
  },
  {
   "cell_type": "code",
   "execution_count": 5,
   "metadata": {},
   "outputs": [],
   "source": [
    "# contains no timing outliers\n",
    "fb_cleaned = pd.read_csv(\"fbcleaned.csv\")\n",
    "insta_cleaned = pd.read_csv(\"instacleaned.csv\")"
   ]
  },
  {
   "cell_type": "code",
   "execution_count": 5,
   "metadata": {},
   "outputs": [
    {
     "name": "stdout",
     "output_type": "stream",
     "text": [
      "Before 5:00pm: [6, 8, 3, 11, 7, 8, 1] After 5:00pm: [3, 6, 9, 4, 2, 2, 4]\n",
      "dict_keys(['Friday', 'Monday', 'Saturday', 'Sunday', 'Thursday', 'Tuesday', 'Wednesday'])\n"
     ]
    }
   ],
   "source": [
    "## Group the time before and after 5:00pm for facebook\n",
    "fb_am = 0\n",
    "fb_pm = 0\n",
    "fb_amser =[]\n",
    "fb_pmser =[]\n",
    "days_week = []\n",
    "\n",
    "fb_days = fb_df.groupby('Day')\n",
    "days = fb_days.groups.keys()\n",
    "\n",
    "#group am and pm\n",
    "for day in days:\n",
    "    idf = fb_days.get_group(day)\n",
    "    fb_am =0\n",
    "    fb_pm =0\n",
    "    for fbtime in idf.iloc[:,0]:\n",
    "        if(fbtime.find(\"am\")!= -1):\n",
    "            fb_am +=1\n",
    "        elif(fbtime.find(\"pm\")!= -1): #it can be before 5:00pm like 1:00,2:00,3:00pm etc. so we have to compare\n",
    "            if(fbtime[1] < \"5\"):\n",
    "                fb_am +=1\n",
    "            else:\n",
    "                fb_pm +=1\n",
    "    fb_amser.append(fb_am)\n",
    "    fb_pmser.append(fb_pm)\n",
    "    days_week.append(day)\n",
    "            \n",
    "print(\"Before 5:00pm:\",fb_amser,\"After 5:00pm:\",fb_pmser)\n",
    "\n",
    "## Group for time before and after 5:00pm for Instagram\n",
    "\n",
    "insta_days = insta_df.groupby('Day')\n",
    "days = insta_days.groups.keys()\n",
    "print(days)\n",
    "insta_am = 0\n",
    "insta_pm = 0\n",
    "insta_amser =[]\n",
    "insta_pmser = []\n",
    "\n",
    "#group am and pm\n",
    "j= 0\n",
    "for day in days:\n",
    "    idf = insta_days.get_group(day)\n",
    "    insta_am = 0\n",
    "    insta_pm =0\n",
    "    for instatime in idf.iloc[:,0]:\n",
    "        if(instatime.find(\"am\")!= -1):\n",
    "            insta_am +=1\n",
    "        elif(instatime.find(\"pm\")!= -1): #it can be before 5:00pm like 1:00,2:00,3:00pm etc. so we have to compare\n",
    "            if(instatime[1] < \"5\"):\n",
    "                insta_am+=1\n",
    "            else:\n",
    "                insta_pm +=1\n",
    "                \n",
    "    insta_amser.append(insta_am)\n",
    "    insta_pmser.append(insta_pm)\n",
    "\n"
   ]
  },
  {
   "cell_type": "code",
   "execution_count": 6,
   "metadata": {},
   "outputs": [
    {
     "name": "stdout",
     "output_type": "stream",
     "text": [
      "Before 5: [11 13 11 18 14 18  6] After 5: [ 9 10 13  6  4  7  9]\n"
     ]
    }
   ],
   "source": [
    "## Total for both social media before 5:00pm and after 5:00pm \n",
    "\n",
    "before_5 = np.array(fb_amser) + np.array(insta_amser)\n",
    "after_5 = np.array(fb_pmser) + np.array(insta_pmser)\n",
    "print(\"Before 5:\",before_5,\"After 5:\",after_5)\n"
   ]
  },
  {
   "cell_type": "code",
   "execution_count": 7,
   "metadata": {},
   "outputs": [
    {
     "data": {
      "text/plain": [
       "Text(0.5, 1.0, 'Number of times online before 5pm and after 5pm each day')"
      ]
     },
     "execution_count": 7,
     "metadata": {},
     "output_type": "execute_result"
    },
    {
     "data": {
      "image/png": "[encoded data removed]",
      "text/plain": [
       "<Figure size 432x288 with 1 Axes>"
      ]
     },
     "metadata": {
      "needs_background": "light"
     },
     "output_type": "display_data"
    },
    {
     "data": {
      "image/png": "[encoded data removed]",
      "text/plain": [
       "<Figure size 432x288 with 1 Axes>"
      ]
     },
     "metadata": {
      "needs_background": "light"
     },
     "output_type": "display_data"
    },
    {
     "data": {
      "image/png": "[encoded data removed]",
      "text/plain": [
       "<Figure size 432x288 with 1 Axes>"
      ]
     },
     "metadata": {
      "needs_background": "light"
     },
     "output_type": "display_data"
    }
   ],
   "source": [
    "## Visualization of time before and after each day\n",
    "import matplotlib.pyplot as plt\n",
    "\n",
    "plt.bar(days_week,before_5)\n",
    "plt.title(\"Before 5 on social media over 7 days a week\")\n",
    "plt.xticks(rotation=45)\n",
    "plt.savefig(\"daybyTimebefore5freq.png\")\n",
    "\n",
    "plt.figure()\n",
    "plt.bar(days_week,after_5)\n",
    "plt.title(\"After 5 on social media over 7 days a week\")\n",
    "plt.xticks(rotation=45)\n",
    "plt.savefig(\"daybyTimeafter5freq.png\")\n",
    "\n",
    "N=7\n",
    "width =0.3\n",
    "ind = np.arange(N)\n",
    "plt.figure()\n",
    "plt.bar(ind,before_5,width,label=\"before 5pm\")\n",
    "plt.bar(ind+width,after_5,width,label=\"after5pm\")\n",
    "#plt.xlabels()\n",
    "plt.legend()\n",
    "plt.xticks(ind+width/2,('Monday','Tuesday','Wednesday','Thursday','Friday','Saturday','Sunday'))\n",
    "plt.xticks(rotation=45)\n",
    "plt.title(\"Number of times online before 5pm and after 5pm each day\")\n"
   ]
  },
  {
   "cell_type": "markdown",
   "metadata": {},
   "source": [
    "<details>\n",
    "    <summary><b>Click to read findings</b></summary>\n",
    "  Based on the graph, we discover that:\n",
    "\n",
    "1. I am more active on social media during the day time(before 5pm), then after 5pm.   \n",
    "  \n",
    "</details>"
   ]
  },
  {
   "cell_type": "markdown",
   "metadata": {},
   "source": [
    "### Hypothesis question: Am I more active online on Social media during the day(before 5:00pm) than night(after 5:00pm)\n",
    "\n",
    "Step 1:(Stating hypothesis and null hypothesis)  \n",
    "$H_o: \\mu_{before5} = \\mu_{after5}$  \n",
    "$H_o : \\mu_{before5} > \\mu_{after5}$  \n",
    "\n",
    "Step 2:(Choosing significance level)  \n",
    "I will choose a significance level of 0.05\n",
    "\n",
    "Step 3:(Identifying type of test to use)  \n",
    "We will use a two sample independent test but one tailed because a direction is present  \n",
    "df = 7 + 7 -2  \n",
    "t- value = 1.782  \n",
    "t = $\\frac{x_1 + x_2}{\\sqrt{\\frac{1}{n_1} + \\frac{1}{n_2}}}$  \n",
    "If t-computed is larger than t-value, we reject the null hypothesis; else do not.\n"
   ]
  },
  {
   "cell_type": "code",
   "execution_count": 8,
   "metadata": {},
   "outputs": [
    {
     "name": "stdout",
     "output_type": "stream",
     "text": [
      "t-computed: 2.419677397852329 p-value: 0.016168243699838897\n",
      "Reject H0, p-value: 0.016168243699838897\n"
     ]
    }
   ],
   "source": [
    "## Step 4:\n",
    "alpha = 0.05\n",
    "# ttest_ind performs a two-tailed test\n",
    "t_computed, p_value = stats.ttest_ind(before_5,after_5)\n",
    "print(\"t-computed:\", t_computed, \"p-value:\", p_value/2)\n",
    "if p_value/2 < alpha: \n",
    "    print(\"Reject H0, p-value:\", p_value/2)\n",
    "else:\n",
    "    print(\"Fail to reject H0, p-value:\", p_value/2)"
   ]
  },
  {
   "cell_type": "markdown",
   "metadata": {},
   "source": [
    "Since the p value is smaller than 0.05, and the t-computed is larger than 1.782, we reject the null hypothesis. Therefore, I am more active on social media during the day than night"
   ]
  },
  {
   "cell_type": "code",
   "execution_count": 9,
   "metadata": {},
   "outputs": [
    {
     "data": {
      "image/png": "[encoded data removed]",
      "text/plain": [
       "<Figure size 432x288 with 1 Axes>"
      ]
     },
     "metadata": {},
     "output_type": "display_data"
    }
   ],
   "source": [
    "## VISUALIZE DATA\n",
    "\n",
    "before_5sum = np.sum(before_5)\n",
    "after_5sum = np.sum(after_5)\n",
    "\n",
    "labels= [\"Before 5:00pm\",\"After 5:00pm\"]\n",
    "media_percent = [before_5sum,after_5sum]\n",
    "plt.pie(media_percent,labels =labels,autopct='%.1f')\n",
    "plt.savefig(\"time.png\")"
   ]
  },
  {
   "cell_type": "markdown",
   "metadata": {},
   "source": [
    "Based on the graph, we can see that the number of times I have been online before 5:00pm is larger and takes 61.1% of the time while only 36.9% of the times I am online, is after 5:00pm"
   ]
  },
  {
   "cell_type": "markdown",
   "metadata": {},
   "source": [
    "## Statistical Analysis Conclusions:  \n",
    "1. Carried out a two sample one tailed test for the number of days to answer the question if I am more active during weekends(Saturday and Sunday), significance level = 0.05  \n",
    "Result found: Not significant, p computed is 0.128  \n",
    "\n",
    "2. Carried out a similar test on the times online to answer the question if I am more active during night than day?, significance value =0.10  \n",
    "Result found : I am significantly more active on day than night, p computed is 0.056"
   ]
  },
  {
   "cell_type": "markdown",
   "metadata": {},
   "source": [
    "# CLASSIFICATION"
   ]
  },
  {
   "cell_type": "markdown",
   "metadata": {},
   "source": [
    "Determining the next time I will be online during the day(before 5:00pm) or night(after 5:00pm) given a specific day\n",
    "\n",
    "Since the data are all stored as strings, I will have to give a numeric value to the days and time I will have to change to two instances- before 5:00pm and after 5:00pm, which have been done in the previous section to visualize time\n"
   ]
  },
  {
   "cell_type": "markdown",
   "metadata": {},
   "source": [
    "\n",
    "1. To obtained a test result, I collected data manually for a week after onw week of finishing the implementation to avoid confirmation biases   \n",
    "Question explored: What time will be the next time I am online on a social media account given a specific day\n",
    "\n",
    "Approach to classification:  \n",
    "1. Encode labeled days to be 0,1,2,3..7 instead of Monday, Tuesday,etc.  \n",
    "3. Encode labeled social media to be either 1 or 0 too, to indicate Facebook for 0 and 1 for Instagram  \n",
    "\n",
    "Classifier Used:  \n",
    "* kNN neighbors classifier  \n",
    "* Decision Tree classifier"
   ]
  },
  {
   "cell_type": "code",
   "execution_count": 10,
   "metadata": {},
   "outputs": [
    {
     "name": "stdout",
     "output_type": "stream",
     "text": [
      "        Time        Day  Date  Year  Social Media      Month\n",
      "0     after5   Saturday    28  2020           0.0    October\n",
      "1    before5     Sunday    25  2020           0.0    October\n",
      "2    before5    Tuesday    13  2020           0.0    October\n",
      "3     after5  Wednesday    30  2020           0.0  September\n",
      "4     after5     Monday    28  2020           0.0  September\n",
      "..       ...        ...   ...   ...           ...        ...\n",
      "130   after5     Friday    18  2019           1.0    October\n",
      "131  before5    Tuesday     1  2019           1.0    October\n",
      "132  before5   Thursday    19  2019           1.0  September\n",
      "133  before5     Monday    19  2019           1.0     August\n",
      "134   after5   Saturday     3  2019           1.0     August\n",
      "\n",
      "[135 rows x 6 columns]\n"
     ]
    }
   ],
   "source": [
    "s_dfclass = pd.read_csv(\"cleanedSM.csv\")\n",
    "print(s_dfclass)\n",
    "\n",
    "\n",
    "s_days = s_dfclass.groupby(\"Day\")\n",
    "before_5 =[]\n",
    "after_5 =[]\n",
    "fbday_freq = []\n",
    "\n",
    "for day in days :\n",
    "    s_df = s_days.get_group(day)\n",
    "    time_df = s_dfclass.groupby(\"Time\")\n",
    "    #print(day_df)\n",
    "    after_5.append(len(time_df.get_group(\"after5\")))\n",
    "    before_5.append(len(time_df.get_group(\"before5\")))\n",
    "\n"
   ]
  },
  {
   "cell_type": "markdown",
   "metadata": {},
   "source": [
    "#### Now that we have change the values, let us use the kNN hold out method"
   ]
  },
  {
   "cell_type": "code",
   "execution_count": 11,
   "metadata": {},
   "outputs": [],
   "source": [
    "from sklearn import preprocessing\n",
    "\n",
    "y = s_dfclass[\"Time\"]\n",
    "X = s_dfclass.drop(\"Time\", axis=1)\n",
    "X = X.drop(\"Date\",axis =1)\n",
    "X = X.drop(\"Year\",axis=1)\n",
    "\n",
    "##Convert data to be numerial\n",
    "le = preprocessing.LabelEncoder()\n",
    "le.fit(X[\"Social Media\"])\n",
    "X[\"Social Media\"] = le.transform(X[\"Social Media\"])\n",
    "le.fit(X[\"Day\"])\n",
    "X[\"Day\"] = le.transform(X[\"Day\"])\n",
    "le.fit(X[\"Month\"])\n",
    "X[\"Month\"] = le.transform(X[\"Month\"])\n"
   ]
  },
  {
   "cell_type": "code",
   "execution_count": 12,
   "metadata": {},
   "outputs": [
    {
     "name": "stdout",
     "output_type": "stream",
     "text": [
      "0.5882352941176471\n"
     ]
    }
   ],
   "source": [
    "\n",
    "from sklearn.preprocessing import MinMaxScaler\n",
    "from sklearn.model_selection import train_test_split\n",
    "from sklearn.neighbors import KNeighborsClassifier\n",
    "\n",
    "\n",
    "X_train,X_test, y_train, y_test = train_test_split(X,y,random_state = 0,stratify=y)# random state for reproducility so that we will always get same data\n",
    "clf = KNeighborsClassifier(n_neighbors=20, metric=\"euclidean\")\n",
    "clf.fit(X_train, y_train)\n",
    "\n",
    "y_predicted = clf.predict(X_test)\n",
    "accuracy = clf.score(X_test, y_test)\n",
    "print(accuracy)\n",
    "\n"
   ]
  },
  {
   "cell_type": "markdown",
   "metadata": {},
   "source": [
    "### Decision Tree Classifier Method"
   ]
  },
  {
   "cell_type": "code",
   "execution_count": 13,
   "metadata": {},
   "outputs": [
    {
     "name": "stdout",
     "output_type": "stream",
     "text": [
      "0.5588235294117647\n"
     ]
    }
   ],
   "source": [
    "from sklearn.tree import DecisionTreeClassifier\n",
    "\n",
    "tree_clf = DecisionTreeClassifier(random_state=0,max_depth=3)\n",
    "tree_clf.fit(X_train, y_train)\n",
    "y_predicted_tree = tree_clf.predict(X_test)\n",
    "accuracy_tree = tree_clf.score(X_test, y_test)\n",
    "print(accuracy_tree)\n"
   ]
  },
  {
   "cell_type": "code",
   "execution_count": 14,
   "metadata": {},
   "outputs": [
    {
     "name": "stdout",
     "output_type": "stream",
     "text": [
      "<class 'sklearn.neighbors._classification.KNeighborsClassifier'>\n",
      "[0.51851852 0.59259259 0.33333333 0.59259259 0.59259259] 0.5259259259259259\n",
      "0.5259259259259259\n",
      "<class 'sklearn.tree._classes.DecisionTreeClassifier'>\n",
      "[0.48148148 0.66666667 0.2962963  0.62962963 0.55555556] 0.5259259259259259\n",
      "0.5259259259259259\n"
     ]
    }
   ],
   "source": [
    "from sklearn.model_selection import cross_val_score, cross_val_predict\n",
    "from sklearn.metrics import accuracy_score\n",
    "\n",
    "for model in [clf, tree_clf]:\n",
    "    print(type(model))\n",
    "    accuracies = cross_val_score(model, X, y, cv=5)\n",
    "    print(accuracies, accuracies.mean())\n",
    "    y_predictions = cross_val_predict(model, X, y, cv=5) # GS: look into random_state for this one\n",
    "    # better estimate of accuracy\n",
    "    accuracy = accuracy_score(y, y_predictions)\n",
    "    print(accuracy)\n",
    "    "
   ]
  },
  {
   "cell_type": "markdown",
   "metadata": {},
   "source": [
    "#### Based on k Hold out test, the accuracy for both kNN is 0.526"
   ]
  },
  {
   "cell_type": "markdown",
   "metadata": {},
   "source": [
    "#### In an attempt to test the predictions, on what time I will spend on social media, I spend a week self collecting data. This data was collected a week after I did this project so that I am not biased or conscious when using my social media. I try to be online each day of self collecting data and then note the time"
   ]
  },
  {
   "cell_type": "code",
   "execution_count": 15,
   "metadata": {},
   "outputs": [
    {
     "name": "stdout",
     "output_type": "stream",
     "text": [
      "['after5' 'before5' 'before5' 'before5' 'after5' 'after5' 'after5']\n",
      "['after5' 'before5' 'before5' 'before5' 'after5' 'after5' 'after5']\n"
     ]
    }
   ],
   "source": [
    "#Predict using KNNneighbors classifier\n",
    "X_self_test = [[0,0,12],[1,0,12],[2,1,12],[3,0,12],[4,0,12],[5,1,12],[6,0,12]]\n",
    "actual_y = [\"after5\",\"before5\",\"before5\",\"after5\",\"after5\",\"before5\",\"after5\"]\n",
    "y_predicted_val = clf.predict(X_self_test)\n",
    "print(y_predicted_val)\n",
    "y_predcted_val = tree_clf.predict(X_self_test)\n",
    "print(y_predicted_val)"
   ]
  },
  {
   "cell_type": "markdown",
   "metadata": {},
   "source": [
    "However, on the week of self collecting data, both have accuracy of 0.714"
   ]
  },
  {
   "cell_type": "markdown",
   "metadata": {},
   "source": [
    "The accuracy is not very high because of the number of features on this dataset."
   ]
  },
  {
   "cell_type": "markdown",
   "metadata": {},
   "source": [
    "## External Factors that could potentially affect my social media usage"
   ]
  },
  {
   "cell_type": "markdown",
   "metadata": {},
   "source": [
    "### Identifying the correlation of news sentiment and the number of times online"
   ]
  },
  {
   "cell_type": "markdown",
   "metadata": {},
   "source": [
    "To identfy what causes me to go online on social media, I try to determine if positive or negative news will motivate me to go online. [This](https://docs.aylien.com/newsapi/#getting-started) is the API website I used.\n",
    "\n",
    "I run this segment of code for changing the days during my self collection date and note the sentiment. The list of sentiment and day and social media online status online can be found in news.csv"
   ]
  },
  {
   "cell_type": "code",
   "execution_count": 18,
   "metadata": {},
   "outputs": [
    {
     "name": "stdout",
     "output_type": "stream",
     "text": [
      "0.13344715629198386\n"
     ]
    }
   ],
   "source": [
    "import requests\n",
    "import json\n",
    "import pandas as pd\n",
    "import matplotlib.pyplot\n",
    "from textblob import TextBlob\n",
    "\n",
    "api_id = \"0a9c9021\"\n",
    "api_key= \"6674c0726f47feea44d5970a9b70275f\"\n",
    "#for meteor stats api requires your api key be in the request headers not in url query params like mapQuest\n",
    "headers= {\"X-AYLIEN-NewsAPI-Application-ID\":api_id,\n",
    "           \"X-AYLIEN-NewsAPI-Application-Key\":api_key\n",
    "         }\n",
    "\n",
    "\n",
    "url = \"https://api.aylien.com/news/stories?published_at.start=NOW-2DAY/DAY\"\n",
    "response = requests.get(url=url,headers=headers)\n",
    "json_object =  json.loads(response.text)\n",
    "j1 = json_object['stories'][0]['body']\n",
    "blob = TextBlob(j1)\n",
    "print(blob.sentiment[0])"
   ]
  },
  {
   "cell_type": "markdown",
   "metadata": {},
   "source": [
    "### Below is the data collected throughout my period of self testing together with news sentiment"
   ]
  },
  {
   "cell_type": "code",
   "execution_count": 21,
   "metadata": {},
   "outputs": [
    {
     "name": "stdout",
     "output_type": "stream",
     "text": [
      "         Day         Date  News Sentiment Online Status\n",
      "0  Wednesday   December 9       -0.126400           Yes\n",
      "1   Thursday  December 10       -0.016700            No\n",
      "2     Friday  December 11        0.356700            No\n",
      "3   Saturday  December 12        0.018300           Yes\n",
      "4     Sunday  December 13        0.017800           Yes\n",
      "5     Monday  December 14        0.102789            No\n",
      "6    Tuesday  December 15       -0.227500           Yes\n",
      "7  Wednesday  December 16       -0.349520           Yes\n"
     ]
    }
   ],
   "source": [
    "news_df = pd.read_csv(\"news.csv\")\n",
    "print(news_df)"
   ]
  },
  {
   "cell_type": "markdown",
   "metadata": {},
   "source": [
    "To measure dependency of the two, I used another t-test. Am I more ofte online when the news sentiment is good or when it is negative?"
   ]
  },
  {
   "cell_type": "markdown",
   "metadata": {},
   "source": [
    "Step 1:(Stating hypothesis)   \n",
    "$H_o : \\mu_{online} = \\mu_{offline}$  \n",
    "$H_1 : \\mu_{offline} > \\mu_{online}$  \n",
    "\n",
    "Step 2:(Level of Significance)  \n",
    "For testing purpose, I will just use a level of significance of 0.05\n",
    "\n",
    "Step 3:(Test determined)  \n",
    "This is a two tailed test two independent test  \n",
    "df =  5 + 3-2 = 6  \n",
    "t = $\\frac{x_1 + x_2}{\\sqrt{\\frac{1}{n_1} + \\frac{1}{n_2}}}$  \n",
    "t-value = 1.943 (If t computed is larger than 1.943, reject null hypothesis.Else do not.)"
   ]
  },
  {
   "cell_type": "code",
   "execution_count": 22,
   "metadata": {},
   "outputs": [
    {
     "name": "stdout",
     "output_type": "stream",
     "text": [
      "0   -0.12640\n",
      "3    0.01830\n",
      "4    0.01780\n",
      "6   -0.22750\n",
      "7   -0.34952\n",
      "Name: News Sentiment, dtype: float64\n",
      "1   -0.016700\n",
      "2    0.356700\n",
      "5    0.102789\n",
      "Name: News Sentiment, dtype: float64\n",
      "t-computed: 2.258591336455928 p-value: 0.03233658858187175\n",
      "Reject H0, p-value: 0.03233658858187175\n"
     ]
    }
   ],
   "source": [
    "# Grouping data by offline or online\n",
    "\n",
    "off_on = news_df.groupby(\"Online Status\")\n",
    "online = off_on.get_group(\"Yes\")\n",
    "online_sent = online[\"News Sentiment\"]\n",
    "print(online_sent)\n",
    "offline  =off_on.get_group(\"No\")\n",
    "offline_sent = offline[\"News Sentiment\"]\n",
    "print(offline_sent)\n",
    "\n",
    "## carying out t test\n",
    "## Step 4:\n",
    "alpha = 0.05\n",
    "# ttest_ind performs a one-tailed test\n",
    "t_computed, p_value = stats.ttest_ind(offline_sent,online_sent)\n",
    "print(\"t-computed:\", t_computed, \"p-value:\", p_value/2)\n",
    "if p_value/2 < alpha: \n",
    "    print(\"Reject H0, p-value:\", p_value/2)\n",
    "else:\n",
    "    print(\"Fail to reject H0, p-value:\", p_value/2)"
   ]
  },
  {
   "cell_type": "markdown",
   "metadata": {},
   "source": [
    "<details>\n",
    "    <summary><b>Click to read findings!</b></summary>\n",
    "  Based on my findings, it seems that the news sentiment is generally more positive when I am offline compare to when I am online. This is an interesting finding that can help provide some support as to when I am on social media  \n",
    "  \n",
    "</details>\n"
   ]
  },
  {
   "cell_type": "markdown",
   "metadata": {},
   "source": [
    "Given this analysis, some ways to improve this project and its classification accuracy is to:  \n",
    "1. Add number of features- that is caried out news analysis sentiment  \n",
    "2. Increase number of data"
   ]
  },
  {
   "cell_type": "markdown",
   "metadata": {},
   "source": [
    "## Conclusion"
   ]
  },
  {
   "cell_type": "markdown",
   "metadata": {},
   "source": [
    "I found it facinating that what I initially predicted is contrary to what I learned about myself. I used to think that I am more active on social media during the weekend than weekdays and more active after 5 pm than before 5pm.\n",
    "However, I found out that:\n",
    "\n",
    "1. My social media usage is not dependent on the days, whether it is a weekend or weekday  \n",
    "2. I am more active on social media before 5:00pm, then after 5:00pm\n",
    "\n",
    "In an attempt to learn more about what could possibly influence my social media usage, I turn to news sentiment.\n",
    "Based on the news sentiment analysis, I found out that the sentiment mean when I am offline is more positive than when I am offline.\n",
    "\n",
    "Ratiionalizing my findings, I have come to conclude that I am more active on social media during times where I am unhappy or something bad happened that day than when I am in a good mood. This explains why I am more active during the day and night, given more stress, classes and homework during the day. I usually spend my weekends doing homework too, so probably is the reason why there is no difference in days. Social media is probably a way for me to cope; take my mind off things"
   ]
  },
  {
   "cell_type": "markdown",
   "metadata": {},
   "source": [
    "## Ethical Impacts"
   ]
  },
  {
   "cell_type": "markdown",
   "metadata": {},
   "source": [
    "1. I think it is a very interesting perspective on how social media has become an integral part of our life, yet it is detached from reality. During bad and stressful times, I have turned to social media for comfort, which in return might not offer the same. It is as if social media has create an alternate world for me to be in\n",
    "\n",
    "2. Knowing this, I think stakeholders of this project would try to further detached themselves from reality, by creating an addictive, painless world so that people who face difficult times or situation are even more proned to being online for a long time\n",
    "\n",
    "3. This creates a serious mental issue. If social media does tries to exploit people during times when they are vulnerable, I think it is an important issue to notice"
   ]
  }
 ],
 "metadata": {
  "kernelspec": {
   "display_name": "Python 3",
   "language": "python",
   "name": "python3"
  },
  "language_info": {
   "codemirror_mode": {
    "name": "ipython",
    "version": 3
   },
   "file_extension": ".py",
   "mimetype": "text/x-python",
   "name": "python",
   "nbconvert_exporter": "python",
   "pygments_lexer": "ipython3",
   "version": "3.8.3"
  }
 },
 "nbformat": 4,
 "nbformat_minor": 4
}
